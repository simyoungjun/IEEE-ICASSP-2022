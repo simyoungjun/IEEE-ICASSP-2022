{
 "cells": [
  {
   "cell_type": "code",
   "execution_count": 14,
   "metadata": {},
   "outputs": [],
   "source": [
    "\n",
    "import import_ipynb\n",
    "from classes import *\n",
    "import classes\n",
    "# importlib.reload(classes)\n",
    "\n",
    "known_volume_path = 'C:/Users/GJ/Desktop/연구실/2022SPCUP/spcup_2022_training_part1'\n",
    "unknown_volume_path = './spcup_2022_unseen'\n",
    "\n",
    "\n",
    "test_path, test_labels = file_path_list(known_volume_path)\n",
    "\n",
    "##train set\n",
    "# print('raw train_set_num :',len(labels))\n",
    "rs = 10\n",
    "\n",
    "\n",
    "test = classes.data(test_path,test_labels,n_mels = 32)\n",
    "# X_train,y_train = train.extract_mel(sampling_rate,n_mels)"
   ]
  },
  {
   "cell_type": "code",
   "execution_count": 13,
   "metadata": {},
   "outputs": [
    {
     "name": "stdout",
     "output_type": "stream",
     "text": [
      "Model: \"sequential_18\"\n",
      "_________________________________________________________________\n",
      "Layer (type)                 Output Shape              Param #   \n",
      "=================================================================\n",
      "batch_normalization_54 (Batc (None, 32, 32, 1)         4         \n",
      "_________________________________________________________________\n",
      "conv2d_54 (Conv2D)           (None, 32, 32, 16)        416       \n",
      "_________________________________________________________________\n",
      "batch_normalization_55 (Batc (None, 32, 32, 16)        64        \n",
      "_________________________________________________________________\n",
      "conv2d_55 (Conv2D)           (None, 32, 32, 32)        12832     \n",
      "_________________________________________________________________\n",
      "batch_normalization_56 (Batc (None, 32, 32, 32)        128       \n",
      "_________________________________________________________________\n",
      "conv2d_56 (Conv2D)           (None, 32, 32, 64)        51264     \n",
      "_________________________________________________________________\n",
      "max_pooling2d_18 (MaxPooling (None, 6, 6, 64)          0         \n",
      "_________________________________________________________________\n",
      "flatten_18 (Flatten)         (None, 2304)              0         \n",
      "_________________________________________________________________\n",
      "dense_18 (Dense)             (None, 5)                 11525     \n",
      "_________________________________________________________________\n",
      "activation_14 (Activation)   (None, 5)                 0         \n",
      "=================================================================\n",
      "Total params: 76,233\n",
      "Trainable params: 76,135\n",
      "Non-trainable params: 98\n",
      "_________________________________________________________________\n"
     ]
    }
   ],
   "source": [
    "from tensorflow.keras.models import load_model\n",
    "model = load_model('./models_log/18_spcup_best_model.h5')\n",
    "model.summary()\n"
   ]
  },
  {
   "cell_type": "code",
   "execution_count": null,
   "metadata": {},
   "outputs": [],
   "source": [
    "prediction = model.predict(test.X_split)\n",
    "\n",
    "\n",
    "#######################segment들 합쳐서 파일당 accuracy 계산\n",
    "from scipy.stats import mode\n",
    "predicted_classes = np.argmax(prediction, axis = 1)\n",
    "f = 0\n",
    "test_predict=[]\n",
    "for i in file_split_num:\n",
    "#     print(predicted_classes[f:f+i])\n",
    "    test_predict.append(mode(predicted_classes[f:f+i])[0][0])\n",
    "    f+=i\n",
    "\n",
    "# acc_bool = test_predict==y_test_raw\n",
    "# #             print(test_predict[:100])\n",
    "# #             print(y_test_raw[:100])\n",
    "# #             print(acc_bool[:100])\n",
    "# test_accuracy = acc_bool.tolist().count(True)/len(acc_bool)"
   ]
  }
 ],
 "metadata": {
  "kernelspec": {
   "display_name": "Python 3",
   "language": "python",
   "name": "python3"
  },
  "language_info": {
   "codemirror_mode": {
    "name": "ipython",
    "version": 3
   },
   "file_extension": ".py",
   "mimetype": "text/x-python",
   "name": "python",
   "nbconvert_exporter": "python",
   "pygments_lexer": "ipython3",
   "version": "3.8.5"
  }
 },
 "nbformat": 4,
 "nbformat_minor": 4
}
