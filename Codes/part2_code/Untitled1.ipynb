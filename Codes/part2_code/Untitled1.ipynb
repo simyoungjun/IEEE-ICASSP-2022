{
 "cells": [
  {
   "cell_type": "code",
   "execution_count": 2,
   "id": "2ad8a813",
   "metadata": {},
   "outputs": [
    {
     "name": "stderr",
     "output_type": "stream",
     "text": [
      "C:\\Users\\GJ\\anaconda3\\lib\\site-packages\\statsmodels\\compat\\pandas.py:61: FutureWarning: pandas.Int64Index is deprecated and will be removed from pandas in a future version. Use pandas.Index with the appropriate dtype instead.\n",
      "  from pandas import Int64Index as NumericIndex\n"
     ]
    },
    {
     "name": "stdout",
     "output_type": "stream",
     "text": [
      "../spcup_2022_eval_part2/labels_eval_part2.csv\n"
     ]
    },
    {
     "ename": "AttributeError",
     "evalue": "'data' object has no attribute 'X_reshaped'",
     "output_type": "error",
     "traceback": [
      "\u001b[1;31m---------------------------------------------------------------------------\u001b[0m",
      "\u001b[1;31mAttributeError\u001b[0m                            Traceback (most recent call last)",
      "Input \u001b[1;32mIn [2]\u001b[0m, in \u001b[0;36m<cell line: 116>\u001b[1;34m()\u001b[0m\n\u001b[0;32m    114\u001b[0m n_round \u001b[38;5;241m=\u001b[39m \u001b[38;5;241m5\u001b[39m\n\u001b[0;32m    115\u001b[0m \u001b[38;5;66;03m# train_soft, train_pred = ext_soft(train_data, model, model_vec, n_round)\u001b[39;00m\n\u001b[1;32m--> 116\u001b[0m eval_soft, eval_pred \u001b[38;5;241m=\u001b[39m \u001b[43mext_soft\u001b[49m\u001b[43m(\u001b[49m\u001b[43meval_data\u001b[49m\u001b[43m,\u001b[49m\u001b[43m \u001b[49m\u001b[43mmodel\u001b[49m\u001b[43m,\u001b[49m\u001b[43m \u001b[49m\u001b[43mmodel_vec\u001b[49m\u001b[43m,\u001b[49m\u001b[43m \u001b[49m\u001b[43mn_round\u001b[49m\u001b[43m)\u001b[49m\n\u001b[0;32m    118\u001b[0m \u001b[38;5;28mlen\u001b[39m(eval_pred[eval_pred\u001b[38;5;241m==\u001b[39m\u001b[38;5;241m4\u001b[39m])\n",
      "Input \u001b[1;32mIn [2]\u001b[0m, in \u001b[0;36mext_soft\u001b[1;34m(data, model, model_vec, n_round)\u001b[0m\n\u001b[0;32m      4\u001b[0m \u001b[38;5;28;01mdef\u001b[39;00m \u001b[38;5;21mext_soft\u001b[39m(data,model, model_vec, n_round \u001b[38;5;241m=\u001b[39m \u001b[38;5;241m5\u001b[39m):\n\u001b[1;32m----> 8\u001b[0m     prediction_soft \u001b[38;5;241m=\u001b[39m model\u001b[38;5;241m.\u001b[39mpredict(\u001b[43mdata\u001b[49m\u001b[38;5;241;43m.\u001b[39;49m\u001b[43mX_reshaped\u001b[49m)\n\u001b[0;32m      9\u001b[0m     prediction_vec \u001b[38;5;241m=\u001b[39m model_vec\u001b[38;5;241m.\u001b[39mpredict(data\u001b[38;5;241m.\u001b[39mX_reshaped)\n\u001b[0;32m     10\u001b[0m \u001b[38;5;66;03m#     predicted_classes = np.argmax(prediction_soft, axis=1)\u001b[39;00m\n",
      "\u001b[1;31mAttributeError\u001b[0m: 'data' object has no attribute 'X_reshaped'"
     ]
    }
   ],
   "source": [
    "import sys\n",
    "sys.path.append('C:/Users/GJ/PycharmProjects/2022SPCUP')\n",
    "\n",
    "def ext_soft(data,model, model_vec, n_round = 5):\n",
    "    \n",
    "\n",
    "    \n",
    "    prediction_soft = model.predict(data.X_mel_cqt)\n",
    "    prediction_vec = model_vec.predict(data.X_mel_cqt)\n",
    "#     predicted_classes = np.argmax(prediction_soft, axis=1)\n",
    "    \n",
    "\n",
    "    \n",
    "    f = 0\n",
    "    softmax_val = []\n",
    "    test_predict = []\n",
    "\n",
    "    for j,i in enumerate(data.file_split_num):\n",
    "        mean_vec = np.mean(prediction_vec[f:f + i],axis = 0)    \n",
    "#         mean_soft = np.mean(prediction_soft[f:f + i],axis = 0) \n",
    "#         mean_soft = np.mean(prediction[f:f + i],axis = 0)\n",
    "#         mean_soft = np.mean(np.power(prediction[f:f + i],2),axis = 0)\n",
    "        \n",
    "        softmax_val.append(np.round(mean_vec,n_round))\n",
    "#         test_predict.append(mode(predicted_classes[f:f + i])[0][0])\n",
    "        \n",
    "        predicted_classes = np.argmax(np.mean(prediction_soft[f:f + i],axis = 0))\n",
    "        test_predict.append(predicted_classes)\n",
    "        f += i\n",
    "    return np.array(softmax_val), np.array(test_predict)\n",
    "\n",
    "\n",
    "\n",
    "\n",
    "import import_ipynb\n",
    "import eval_classes\n",
    "import importlib\n",
    "importlib.reload(eval_classes)\n",
    "\n",
    "from eval_classes import *\n",
    "import tensorflow as tf\n",
    "import pandas as pd\n",
    "import numpy as np\n",
    "import tensorflow as tf\n",
    "import matplotlib.pyplot as plt\n",
    "import seaborn as sns\n",
    "from sklearn.model_selection import train_test_split\n",
    "from sklearn.preprocessing import StandardScaler\n",
    "from sklearn.metrics import confusion_matrix, recall_score, accuracy_score, precision_score\n",
    "from tensorflow.keras.models import load_model\n",
    "\n",
    "\n",
    "known_volume_path = './part2_full_train_4X5000'\n",
    "eval_volume_path = '../spcup_2022_eval_part2'\n",
    "\n",
    "\n",
    "known_path, known_label_path = part2_file_path_list(known_volume_path,True)\n",
    "eval_path, eval_label_path = eval_file_path_list(eval_volume_path)\n",
    "\n",
    "\n",
    "rs = 42\n",
    "\n",
    "# pd_label =  pd.read_csv(known_label_path)\n",
    "known_labels = known_label_path\n",
    "\n",
    "knwon_train_path, known_test_path, y_train_raw, y_test_raw = train_test_split(np.array(known_path),\n",
    "                                                                      known_labels, test_size=0.2,\n",
    "                                                                      stratify = known_labels, random_state=rs)\n",
    "\n",
    "n_mels = 64\n",
    "\n",
    "\n",
    "# train_data = data(knwon_train_path ,known_label_path,n_mels=n_mels)\n",
    "eval_data = data(eval_path ,eval_label_path,n_mels=n_mels)\n",
    "\n",
    "\n",
    "\n",
    "\n",
    "\n",
    "for data in [eval_data]:\n",
    "    data.extract_mel()\n",
    "    data.extract_cqt()\n",
    "    data.reshape_data_cqt_mel()\n",
    "\n",
    "# X_train = train_data.X_reshaped\n",
    "# X_eval = eval_data.X_reshaped\n",
    "\n",
    "\n",
    "\n",
    "model = load_model('./best_model_noise/64_1024_10_part2_mel_cqt_feature_label_6_model.h5') #CNN_label_6_mel\n",
    "\n",
    "model_vec = load_model('./best_model_noise/64_1024_10_part2_mel_cqt_feature_label_6_model.h5')\n",
    "\n",
    "# for data in [train_data, eval_data]:\n",
    "#     data.extract_mel()\n",
    "#     data.reshape_data()\n",
    "    \n",
    "# # X_train = train_data.X_reshaped\n",
    "# # X_eval = eval_data.X_reshaped\n",
    "\n",
    "\n",
    "\n",
    "# model = load_model('./best_model_noise/10_part2_label6_spcup_save_last.h5') #CNN_label_6_mel\n",
    "\n",
    "# model_vec = load_model('./best_model_noise/10_part2_label6_spcup_save_last.h5')\n",
    "\n",
    "\n",
    "model_vec.pop()\n",
    "model_vec.compile()\n",
    "# model_vec.summary()\n",
    "\n",
    "\n",
    "from scipy.stats import mode\n",
    "n_round = 5\n",
    "# train_soft, train_pred = ext_soft(train_data, model, model_vec, n_round)\n",
    "eval_soft, eval_pred = ext_soft(eval_data, model, model_vec, n_round)\n",
    "\n",
    "len(eval_pred[eval_pred==4])\n",
    "\n",
    "\n"
   ]
  },
  {
   "cell_type": "code",
   "execution_count": null,
   "id": "0aefbe5e",
   "metadata": {},
   "outputs": [],
   "source": []
  },
  {
   "cell_type": "code",
   "execution_count": 5,
   "id": "b742da4d",
   "metadata": {},
   "outputs": [
    {
     "data": {
      "text/plain": [
       "1043"
      ]
     },
     "execution_count": 5,
     "metadata": {},
     "output_type": "execute_result"
    }
   ],
   "source": [
    "def ext_soft(data,model, model_vec, n_round = 5):\n",
    "    \n",
    "\n",
    "    \n",
    "    prediction_soft = model.predict(data.X_mel_cqt)\n",
    "    prediction_vec = model_vec.predict(data.X_mel_cqt)\n",
    "#     predicted_classes = np.argmax(prediction_soft, axis=1)\n",
    "    \n",
    "\n",
    "    \n",
    "    f = 0\n",
    "    softmax_val = []\n",
    "    test_predict = []\n",
    "\n",
    "    for j,i in enumerate(data.file_split_num):\n",
    "        mean_vec = np.mean(prediction_vec[f:f + i],axis = 0)    \n",
    "#         mean_soft = np.mean(prediction_soft[f:f + i],axis = 0) \n",
    "#         mean_soft = np.mean(prediction[f:f + i],axis = 0)\n",
    "#         mean_soft = np.mean(np.power(prediction[f:f + i],2),axis = 0)\n",
    "        \n",
    "        softmax_val.append(np.round(mean_vec,n_round))\n",
    "#         test_predict.append(mode(predicted_classes[f:f + i])[0][0])\n",
    "        \n",
    "        predicted_classes = np.argmax(np.mean(prediction_soft[f:f + i],axis = 0))\n",
    "        test_predict.append(predicted_classes)\n",
    "        f += i\n",
    "    return np.array(softmax_val), np.array(test_predict)\n",
    "\n",
    "eval_soft, eval_pred = ext_soft(eval_data, model, model_vec, n_round)\n",
    "\n",
    "len(eval_pred[eval_pred==5])"
   ]
  },
  {
   "cell_type": "code",
   "execution_count": 4,
   "id": "2d5647a0",
   "metadata": {},
   "outputs": [
    {
     "data": {
      "text/plain": [
       "(56971, 64, 32, 2)"
      ]
     },
     "execution_count": 4,
     "metadata": {},
     "output_type": "execute_result"
    }
   ],
   "source": [
    "eval_data.X_mel_cqt.shape"
   ]
  },
  {
   "cell_type": "code",
   "execution_count": 7,
   "id": "5eb7cafb",
   "metadata": {},
   "outputs": [],
   "source": [
    "import pickle\n",
    "# with open('part2_eval_data_train(train4000).p','wb') as f:\n",
    "#     pickle.dump(train_data,f)\n",
    "with open('part2_eval_data_mel_cqt(eval9000).p','wb') as f:\n",
    "    pickle.dump(eval_data,f)"
   ]
  },
  {
   "cell_type": "code",
   "execution_count": null,
   "id": "55b829f6",
   "metadata": {},
   "outputs": [],
   "source": [
    "#file_name = \"n_round  pa   thresh\"\n",
    "file_name = \"../submits_log/answer.txt\"\n",
    "with open(file_name,\"w\") as file:\n",
    "    for dirName, subdirList, fileList in os.walk(eval_volume_path):\n",
    "        for i, filename in enumerate(fileList):\n",
    "            if i != 9000:\n",
    "                file.write(str(filename))\n",
    "                file.write(', ')  \n",
    "                file.write(str(eval_pred[i]))\n",
    "                file.write('\\n')  \n",
    "            else:\n",
    "                file.close()"
   ]
  }
 ],
 "metadata": {
  "kernelspec": {
   "display_name": "Python 3 (ipykernel)",
   "language": "python",
   "name": "python3"
  },
  "language_info": {
   "codemirror_mode": {
    "name": "ipython",
    "version": 3
   },
   "file_extension": ".py",
   "mimetype": "text/x-python",
   "name": "python",
   "nbconvert_exporter": "python",
   "pygments_lexer": "ipython3",
   "version": "3.8.5"
  }
 },
 "nbformat": 4,
 "nbformat_minor": 5
}
