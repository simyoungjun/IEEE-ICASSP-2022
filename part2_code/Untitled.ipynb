{
 "cells": [
  {
   "cell_type": "code",
   "execution_count": 22,
   "metadata": {},
   "outputs": [
    {
     "name": "stdout",
     "output_type": "stream",
     "text": [
      "[name: \"/device:CPU:0\"\n",
      "device_type: \"CPU\"\n",
      "memory_limit: 268435456\n",
      "locality {\n",
      "}\n",
      "incarnation: 6776280259936321586\n",
      ", name: \"/device:GPU:0\"\n",
      "device_type: \"GPU\"\n",
      "memory_limit: 143291596\n",
      "locality {\n",
      "  bus_id: 1\n",
      "  links {\n",
      "  }\n",
      "}\n",
      "incarnation: 13006871590414891411\n",
      "physical_device_desc: \"device: 0, name: NVIDIA GeForce GTX 1650, pci bus id: 0000:26:00.0, compute capability: 7.5\"\n",
      "]\n"
     ]
    }
   ],
   "source": [
    "from tensorflow.python.client import device_lib\n",
    "\n",
    "print(device_lib.list_local_devices())\n",
    "\n",
    "\n",
    "\n"
   ]
  },
  {
   "cell_type": "code",
   "execution_count": 20,
   "metadata": {},
   "outputs": [
    {
     "data": {
      "text/plain": [
       "<module 'class_new' from 'C:/Users/GJ/PycharmProjects/2022SPCUP\\\\class_new.py'>"
      ]
     },
     "execution_count": 20,
     "metadata": {},
     "output_type": "execute_result"
    }
   ],
   "source": [
    "import sys\n",
    "sys.path.append('C:/Users/GJ/PycharmProjects/2022SPCUP')\n",
    "\n",
    "import import_ipynb\n",
    "import class_new\n",
    "import importlib\n",
    "importlib.reload(class_new)"
   ]
  },
  {
   "cell_type": "code",
   "execution_count": 21,
   "metadata": {},
   "outputs": [],
   "source": [
    "\n",
    "\n",
    "import import_ipynb\n",
    "\n",
    "from class_new import *\n",
    "import tensorflow as tf\n",
    "import pandas as pd\n",
    "import numpy as np\n",
    "import tensorflow as tf\n",
    "import matplotlib.pyplot as plt\n",
    "import seaborn as sns\n",
    "from sklearn.model_selection import train_test_split\n",
    "from sklearn.preprocessing import StandardScaler\n",
    "from sklearn.metrics import confusion_matrix, recall_score, accuracy_score, precision_score\n",
    "\n",
    "\n",
    "\n",
    "known_volume_path = './part2_full_train_4X5000'\n",
    "unknown_volume_path = './part1_unseen_noisy_version'\n",
    "\n",
    "\n",
    "\n",
    "rs = 42\n",
    "known_path, known_labels = part2_file_path_list(known_volume_path, True)\n",
    "unknown_path, unknown_labels = part2_file_path_list(unknown_volume_path)\n",
    "\n",
    "##train set\n",
    "# print('raw train_set_num :',len(labels))\n",
    "X_train_path, X_test_path, y_train_raw, y_test_raw = train_test_split(np.array(known_path),\n",
    "                                                                      known_labels, test_size=0.2,\n",
    "                                                                      stratify = known_labels, random_state=rs)\n",
    "\n",
    "n = 100\n",
    "n_mels = 64\n",
    "train = data(X_train_path,y_train_raw,n_mels=n_mels, known = True)\n",
    "\n",
    "test = data(X_test_path,y_test_raw, n_mels=n_mels, known = True)\n",
    "\n",
    "unseen =data(unknown_path,unknown_labels, n_mels=n_mels, known = False)"
   ]
  },
  {
   "cell_type": "code",
   "execution_count": 18,
   "metadata": {},
   "outputs": [
    {
     "name": "stdout",
     "output_type": "stream",
     "text": [
      "3000\n"
     ]
    }
   ],
   "source": [
    "print(len(unknown_path))"
   ]
  }
 ],
 "metadata": {
  "kernelspec": {
   "display_name": "Python 3 (ipykernel)",
   "language": "python",
   "name": "python3"
  },
  "language_info": {
   "codemirror_mode": {
    "name": "ipython",
    "version": 3
   },
   "file_extension": ".py",
   "mimetype": "text/x-python",
   "name": "python",
   "nbconvert_exporter": "python",
   "pygments_lexer": "ipython3",
   "version": "3.8.5"
  }
 },
 "nbformat": 4,
 "nbformat_minor": 4
}
